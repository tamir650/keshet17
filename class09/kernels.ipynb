{
 "cells": [
  {
   "cell_type": "code",
   "execution_count": 1,
   "metadata": {
    "collapsed": false,
    "deletable": true,
    "editable": true
   },
   "outputs": [
    {
     "data": {
      "text/plain": [
       "[<matplotlib.lines.Line2D at 0x104b31050>]"
      ]
     },
     "execution_count": 1,
     "metadata": {},
     "output_type": "execute_result"
    },
    {
     "data": {
      "image/png": "[encoded data removed]",
      "text/plain": [
       "<matplotlib.figure.Figure at 0x104aad090>"
      ]
     },
     "metadata": {},
     "output_type": "display_data"
    }
   ],
   "source": [
    "%matplotlib inline\n",
    "import matplotlib.pyplot as plt\n",
    "import matplotlib.image as mpimg\n",
    "import numpy as np\n",
    "urban_list = list()\n",
    "beach_r_list = list()\n",
    "\n",
    "for i in range(10):\n",
    "    img = mpimg.imread('../data/beach_r' + str(i) + '.jpg')\n",
    "    beach_r_list.append([img[:,:,0].sum() / img[:,:,0].size, img[:,:,2].sum() / img[:,:,2].size])\n",
    "\n",
    "    img = mpimg.imread('../data/urban' + str(i) + '.jpg')\n",
    "    urban_list.append([img[:,:,0].sum() / img[:,:,0].size, img[:,:,2].sum() / img[:,:,2].size])\n",
    "\n",
    "average = np.mean(urban_list + beach_r_list, axis=0)\n",
    "urban_array_centered = np.array(urban_list)-average   \n",
    "beach_r_array_centered = np.array(beach_r_list)-average  \n",
    "plt.plot(beach_r_array_centered[:,0], beach_r_array_centered[:,1], 'g+')\n",
    "plt.plot(urban_array_centered[:,0], urban_array_centered[:,1], 'b_')\n",
    "\n"
   ]
  },
  {
   "cell_type": "code",
   "execution_count": 2,
   "metadata": {
    "collapsed": true,
    "deletable": true,
    "editable": true
   },
   "outputs": [],
   "source": [
    "from IPython import display\n",
    "import time \n",
    "\n",
    "def plot_seperating_hyperlane(w):\n",
    "    print w\n",
    "    w = w / np.linalg.norm(w)\n",
    "    t = np.arange(-60.0, 80.0, 10.0)\n",
    "    plt.plot(w[1]*t, -w[0]*t, 'k--', lw=2)\n",
    "    plt.plot(beach_r_array_centered[:,0], beach_r_array_centered[:,1], 'g+')\n",
    "    plt.plot(urban_array_centered[:,0], urban_array_centered[:,1], 'b_')\n",
    "    plt.show()\n",
    "    "
   ]
  },
  {
   "cell_type": "code",
   "execution_count": 3,
   "metadata": {
    "collapsed": false,
    "deletable": true,
    "editable": true
   },
   "outputs": [
    {
     "data": {
      "text/plain": [
       "array([[ -8.07066127, -62.17923231],\n",
       "       [  9.57897025, -10.11615489],\n",
       "       [ 21.5526573 ,  -7.02326243],\n",
       "       [ 34.90629732,  -4.53920233],\n",
       "       [ 13.06751017, -49.55440928],\n",
       "       [-28.62273046, -58.45198011],\n",
       "       [ -2.04532629,   5.43604489],\n",
       "       [-17.79339538, -24.75185693],\n",
       "       [ 13.40405881,   1.46022557],\n",
       "       [ -3.51962259,  -6.56106391],\n",
       "       [ 30.33434454,  72.86523812],\n",
       "       [  8.8414532 ,   0.53770223],\n",
       "       [-30.61520328,  30.00340465],\n",
       "       [-19.82686191,  13.44959114],\n",
       "       [-24.60917754,   6.63899301],\n",
       "       [-36.5841297 ,   3.7618837 ],\n",
       "       [ 48.0243708 ,   6.30903326],\n",
       "       [ 28.30330816,  28.82610903],\n",
       "       [ 32.37461479,  39.54460672],\n",
       "       [-68.70047691,  14.34432989]])"
      ]
     },
     "execution_count": 3,
     "metadata": {},
     "output_type": "execute_result"
    }
   ],
   "source": [
    "x = np.row_stack((urban_array_centered, beach_r_array_centered))\n",
    "x"
   ]
  },
  {
   "cell_type": "code",
   "execution_count": 4,
   "metadata": {
    "collapsed": false,
    "deletable": true,
    "editable": true
   },
   "outputs": [
    {
     "data": {
      "text/plain": [
       "array([-1, -1, -1, -1, -1, -1, -1, -1, -1, -1,  1,  1,  1,  1,  1,  1,  1,\n",
       "        1,  1,  1])"
      ]
     },
     "execution_count": 4,
     "metadata": {},
     "output_type": "execute_result"
    }
   ],
   "source": [
    "y = np.array([-1]*10 + [1]*10)\n",
    "y"
   ]
  },
  {
   "cell_type": "code",
   "execution_count": 5,
   "metadata": {
    "collapsed": false,
    "deletable": true,
    "editable": true
   },
   "outputs": [
    {
     "data": {
      "text/plain": [
       "array([-0.03015084,  0.99954536])"
      ]
     },
     "execution_count": 5,
     "metadata": {},
     "output_type": "execute_result"
    }
   ],
   "source": [
    "from sklearn import svm\n",
    "\n",
    "classifier = svm.SVC(kernel='linear')\n",
    "classifier.fit(x,y)\n",
    "\n",
    "w = classifier.coef_[0]\n",
    "w / np.linalg.norm(w)\n",
    "\n"
   ]
  },
  {
   "cell_type": "code",
   "execution_count": 6,
   "metadata": {
    "collapsed": false,
    "deletable": true,
    "editable": true
   },
   "outputs": [
    {
     "name": "stdout",
     "output_type": "stream",
     "text": [
      "[-0.00576887  0.19124677]\n"
     ]
    },
    {
     "data": {
      "image/png": "[encoded data removed]",
      "text/plain": [
       "<matplotlib.figure.Figure at 0x104aeb0d0>"
      ]
     },
     "metadata": {},
     "output_type": "display_data"
    }
   ],
   "source": [
    "plot_seperating_hyperlane(w)\n",
    "\n"
   ]
  },
  {
   "cell_type": "markdown",
   "metadata": {
    "collapsed": true,
    "deletable": true,
    "editable": true
   },
   "source": [
    "# learning with kernels"
   ]
  },
  {
   "cell_type": "markdown",
   "metadata": {
    "deletable": true,
    "editable": true
   },
   "source": [
    "if the points that are labeled with $y=-1$ satify $x_1^2 + x_2^2 \\le 1$ we can use the feature map $\\phi(x_1,x_2) = (x_1^2,x_2^2,1)$ and learn $w = (1,1,-1)$.  \n",
    "\n",
    "if the points that are labeled with $y=-1$ satify $x_1^2 - x_2^2 \\le 0$ we can use the feature map $\\phi(x_1,x_2) = (x_1^2,x_2)$ and learn $w = (1,-1)$. \n",
    "  \n",
    "Talk about general quadratic kernel with the feature map $\\phi(x_1,x_2) = (x_1^2, x_2^2, x_1x_2, x_1, x_2, 1)$"
   ]
  },
  {
   "cell_type": "code",
   "execution_count": 28,
   "metadata": {
    "collapsed": false,
    "deletable": true,
    "editable": true
   },
   "outputs": [
    {
     "data": {
      "text/plain": [
       "SVC(C=1.0, cache_size=200, class_weight=None, coef0=1,\n",
       "  decision_function_shape='ovr', degree=3, gamma='auto', kernel='poly',\n",
       "  max_iter=-1, probability=False, random_state=None, shrinking=True,\n",
       "  tol=0.001, verbose=False)"
      ]
     },
     "execution_count": 28,
     "metadata": {},
     "output_type": "execute_result"
    }
   ],
   "source": [
    "from sklearn import svm\n",
    "\n",
    "classifier = svm.SVC(kernel='poly',degree=3,coef0=1)\n",
    "classifier.fit(x,y)"
   ]
  },
  {
   "cell_type": "code",
   "execution_count": 29,
   "metadata": {
    "collapsed": false,
    "deletable": true,
    "editable": true
   },
   "outputs": [
    {
     "data": {
      "text/plain": [
       "<matplotlib.contour.QuadContourSet at 0x13fb4b110>"
      ]
     },
     "execution_count": 29,
     "metadata": {},
     "output_type": "execute_result"
    },
    {
     "data": {
      "image/png": "[encoded data removed]",
      "text/plain": [
       "<matplotlib.figure.Figure at 0x10c6fab90>"
      ]
     },
     "metadata": {},
     "output_type": "display_data"
    }
   ],
   "source": [
    "import numpy as np\n",
    "xx, yy = np.meshgrid(np.arange(-80, 60, 0.1), np.arange(-80, 80, 0.1))\n",
    "\n",
    "predictions = classifier.predict(np.c_[xx.ravel(), yy.ravel()])\n",
    "predictions = predictions.reshape(xx.shape)\n",
    "plt.clf()\n",
    "plt.plot(beach_r_array_centered[:,0], beach_r_array_centered[:,1], 'g+')\n",
    "plt.plot(urban_array_centered[:,0], urban_array_centered[:,1], 'b_')\n",
    "plt.contour(xx, yy, predictions,levels=[0])\n"
   ]
  },
  {
   "cell_type": "code",
   "execution_count": null,
   "metadata": {
    "collapsed": true
   },
   "outputs": [],
   "source": []
  }
 ],
 "metadata": {
  "kernelspec": {
   "display_name": "Python 2",
   "language": "python",
   "name": "python2"
  },
  "language_info": {
   "codemirror_mode": {
    "name": "ipython",
    "version": 2
   },
   "file_extension": ".py",
   "mimetype": "text/x-python",
   "name": "python",
   "nbconvert_exporter": "python",
   "pygments_lexer": "ipython2",
   "version": "2.7.13"
  }
 },
 "nbformat": 4,
 "nbformat_minor": 2
}
