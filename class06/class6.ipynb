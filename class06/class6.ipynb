{
 "cells": [
  {
   "cell_type": "markdown",
   "metadata": {
    "collapsed": true,
    "deletable": true,
    "editable": true
   },
   "source": [
    "Distance of a point from a line:   \n",
    "* the line is defined by w as: $\\{x: \\langle w,x \\rangle\\}$. The norm of $w$ is one: $\\|w\\| = \\|w\\|^2 = \\sum_i w_i^2 = 1$ \n",
    "* the point $\\hat x$ \n",
    "* the distance: $\\min_{x: \\langle w,x \\rangle = 0}\\| \\hat x - x \\| = |\\langle w, \\hat x \\rangle|$\n",
    "\n"
   ]
  },
  {
   "cell_type": "code",
   "execution_count": 21,
   "metadata": {
    "collapsed": false,
    "deletable": true,
    "editable": true
   },
   "outputs": [
    {
     "data": {
      "image/png": "[encoded data removed]",
      "text/plain": [
       "<matplotlib.figure.Figure at 0x111414990>"
      ]
     },
     "metadata": {},
     "output_type": "display_data"
    }
   ],
   "source": [
    "#reading our 2D data, and centering by deleting the average:\n",
    "\n",
    "%matplotlib inline\n",
    "import matplotlib.pyplot as plt\n",
    "import matplotlib.image as mpimg\n",
    "import numpy as np\n",
    "img = mpimg.imread('../data/forest2.jpg')\n",
    "city_list = list()\n",
    "forest_list = list()\n",
    "\n",
    "for i in range(10):\n",
    "    img = mpimg.imread('../data/forest' + str(i) + '.jpg')\n",
    "    forest_list.append([img[:,:,0].sum() / img[:,:,0].size, img[:,:,2].sum() / img[:,:,2].size])\n",
    "\n",
    "    img = mpimg.imread('../data/city' + str(i) + '.jpg')\n",
    "    city_list.append([img[:,:,0].sum() / img[:,:,0].size, img[:,:,2].sum() / img[:,:,2].size])\n",
    "\n",
    "average = np.mean(city_list + forest_list, axis=0)\n",
    "city_array_centered = np.array(city_list)-average   \n",
    "forest_array_centered = np.array(forest_list)-average  \n",
    "plt.plot(forest_array_centered[:,0], forest_array_centered[:,1], 'g+')\n",
    "plt.plot(city_array_centered[:,0], city_array_centered[:,1], 'bo')\n",
    "plt.show()"
   ]
  },
  {
   "cell_type": "markdown",
   "metadata": {
    "collapsed": true,
    "deletable": true,
    "editable": true
   },
   "source": [
    "# Learning a seperating hyperplane using logistic regression. "
   ]
  },
  {
   "cell_type": "markdown",
   "metadata": {
    "deletable": true,
    "editable": true
   },
   "source": [
    "First, we visualize a hyperplane "
   ]
  },
  {
   "cell_type": "code",
   "execution_count": 22,
   "metadata": {
    "collapsed": false,
    "deletable": true,
    "editable": true
   },
   "outputs": [],
   "source": [
    "from IPython import display\n",
    "import time \n",
    "\n",
    "def plot_seperating_hyperlane(w):\n",
    "    print w\n",
    "    w = w / np.linalg.norm(w)\n",
    "    t = np.arange(-60.0, 80.0, 10.0)\n",
    "    plt.plot(w[1]*t, -w[0]*t, 'k--', lw=2)\n",
    "    plt.plot(-0.64173183*t, 0.76692911*t, 'k', lw=2)\n",
    "    plt.plot(forest_array_centered[:,0], forest_array_centered[:,1], 'g+')\n",
    "    plt.plot(city_array_centered[:,0], city_array_centered[:,1], 'bo')\n",
    "    plt.show()\n",
    "    display.clear_output(wait=True)\n",
    "    time.sleep(10.0)"
   ]
  },
  {
   "cell_type": "markdown",
   "metadata": {
    "collapsed": true,
    "deletable": true,
    "editable": true
   },
   "source": [
    "Second, we construct the training data"
   ]
  },
  {
   "cell_type": "code",
   "execution_count": 23,
   "metadata": {
    "collapsed": false,
    "deletable": true,
    "editable": true
   },
   "outputs": [
    {
     "data": {
      "text/plain": [
       "array([[ 58.67750944,  92.52747693],\n",
       "       [ 61.06699777,  36.36109839],\n",
       "       [ 51.63023654,  52.45117466],\n",
       "       [ 13.13373985,  30.72858376],\n",
       "       [ 42.01647129,  46.37502332],\n",
       "       [ 36.12010782,  71.60146866],\n",
       "       [-12.88855116,  37.50546004],\n",
       "       [ 11.41819499, -12.16015347],\n",
       "       [  2.84279725,  57.38211847],\n",
       "       [ -0.27460183,  42.44503282],\n",
       "       [ -7.80937524,  -7.62243874],\n",
       "       [ -1.74619196,  -3.61650129],\n",
       "       [-55.40629066, -75.36756012],\n",
       "       [-48.2673979 , -64.61429388],\n",
       "       [-31.90779692, -44.89345397],\n",
       "       [-37.56918966, -52.89780813],\n",
       "       [-25.04628764, -54.70538002],\n",
       "       [ -3.94982127, -69.24644923],\n",
       "       [-41.37937777, -62.31628069],\n",
       "       [-10.66117296, -19.93711751]])"
      ]
     },
     "execution_count": 23,
     "metadata": {},
     "output_type": "execute_result"
    }
   ],
   "source": [
    "x = np.row_stack((city_array_centered, forest_array_centered))\n",
    "x"
   ]
  },
  {
   "cell_type": "markdown",
   "metadata": {
    "collapsed": true,
    "deletable": true,
    "editable": true
   },
   "source": [
    "And their labels"
   ]
  },
  {
   "cell_type": "code",
   "execution_count": 24,
   "metadata": {
    "collapsed": false,
    "deletable": true,
    "editable": true
   },
   "outputs": [
    {
     "data": {
      "text/plain": [
       "array([-1, -1, -1, -1, -1, -1, -1, -1, -1, -1,  1,  1,  1,  1,  1,  1,  1,\n",
       "        1,  1,  1])"
      ]
     },
     "execution_count": 24,
     "metadata": {},
     "output_type": "execute_result"
    }
   ],
   "source": [
    "y = np.array([-1]*10 + [1]*10)\n",
    "y"
   ]
  },
  {
   "cell_type": "code",
   "execution_count": 25,
   "metadata": {
    "collapsed": false,
    "deletable": true,
    "editable": true
   },
   "outputs": [
    {
     "data": {
      "text/plain": [
       "20"
      ]
     },
     "execution_count": 25,
     "metadata": {},
     "output_type": "execute_result"
    }
   ],
   "source": [
    "total_examples = len(y)\n",
    "total_examples"
   ]
  },
  {
   "cell_type": "markdown",
   "metadata": {
    "collapsed": false,
    "deletable": true,
    "editable": true
   },
   "source": [
    "The logistoc regression learning algorithm"
   ]
  },
  {
   "cell_type": "code",
   "execution_count": 26,
   "metadata": {
    "collapsed": false,
    "deletable": true,
    "editable": true
   },
   "outputs": [
    {
     "data": {
      "text/plain": [
       "array([[  1.00000000e+00,   2.73446809e-28],\n",
       "       [  1.00000000e+00,   2.92879223e-21],\n",
       "       [  1.00000000e+00,   4.88461421e-21],\n",
       "       [  9.99999970e-01,   3.01063390e-08],\n",
       "       [  1.00000000e+00,   9.36371376e-18],\n",
       "       [  1.00000000e+00,   1.11247577e-19],\n",
       "       [  9.84225274e-01,   1.57747263e-02],\n",
       "       [  9.46636399e-01,   5.33636007e-02],\n",
       "       [  9.99999997e-01,   3.03446842e-09],\n",
       "       [  9.99997956e-01,   2.04353657e-06],\n",
       "       [  8.98737215e-04,   9.99101263e-01],\n",
       "       [  1.00454024e-01,   8.99545976e-01],\n",
       "       [  0.00000000e+00,   1.00000000e+00],\n",
       "       [  0.00000000e+00,   1.00000000e+00],\n",
       "       [  5.32907052e-15,   1.00000000e+00],\n",
       "       [  0.00000000e+00,   1.00000000e+00],\n",
       "       [  1.39888101e-14,   1.00000000e+00],\n",
       "       [  3.60891317e-11,   1.00000000e+00],\n",
       "       [  0.00000000e+00,   1.00000000e+00],\n",
       "       [  3.55058412e-06,   9.99996449e-01]])"
      ]
     },
     "execution_count": 26,
     "metadata": {},
     "output_type": "execute_result"
    }
   ],
   "source": [
    "from sklearn import linear_model\n",
    "classifier = linear_model.LogisticRegression()\n",
    "classifier.fit(x,y)\n",
    "probabilities = classifier.predict_proba(x)\n",
    "probabilities\n",
    "\n"
   ]
  },
  {
   "cell_type": "code",
   "execution_count": 31,
   "metadata": {
    "collapsed": false,
    "deletable": true,
    "editable": true
   },
   "outputs": [
    {
     "data": {
      "text/plain": [
       "array([-0.8826747 , -0.46998444])"
      ]
     },
     "execution_count": 31,
     "metadata": {},
     "output_type": "execute_result"
    }
   ],
   "source": [
    "w = classifier.coef_[0]\n",
    "w / np.linalg.norm(w)"
   ]
  },
  {
   "cell_type": "code",
   "execution_count": 33,
   "metadata": {
    "collapsed": false,
    "deletable": true,
    "editable": true
   },
   "outputs": [
    {
     "name": "stdout",
     "output_type": "stream",
     "text": [
      "[-0.58825453 -0.31321899]\n"
     ]
    },
    {
     "data": {
      "image/png": "[encoded data removed]",
      "text/plain": [
       "<matplotlib.figure.Figure at 0x10dc57590>"
      ]
     },
     "metadata": {},
     "output_type": "display_data"
    }
   ],
   "source": [
    "plot_seperating_hyperlane(w)\n"
   ]
  }
 ],
 "metadata": {
  "kernelspec": {
   "display_name": "Python 2",
   "language": "python",
   "name": "python2"
  },
  "language_info": {
   "codemirror_mode": {
    "name": "ipython",
    "version": 2
   },
   "file_extension": ".py",
   "mimetype": "text/x-python",
   "name": "python",
   "nbconvert_exporter": "python",
   "pygments_lexer": "ipython2",
   "version": "2.7.13"
  }
 },
 "nbformat": 4,
 "nbformat_minor": 2
}
