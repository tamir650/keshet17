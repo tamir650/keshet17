{
 "cells": [
  {
   "cell_type": "markdown",
   "metadata": {
    "collapsed": true,
    "deletable": true,
    "editable": true
   },
   "source": [
    "Pythagoras theorem. norm of a vector. Inner product as a bilinear form: \n",
    "\\begin{enumerate}\n",
    "\\item\n",
    "$c \\langle w,x \\rangle = \\langle cw,x \\rangle = \\langle w,cx \\rangle$\n",
    "\\item\n",
    "$\\langle w + v,x \\rangle = \\langle w,x \\rangle + \\langle v,x \\rangle$\n",
    "\\end{enumerate}\n",
    "\n"
   ]
  },
  {
   "cell_type": "code",
   "execution_count": null,
   "metadata": {
    "collapsed": true
   },
   "outputs": [],
   "source": [
    "%matplotlib inline\n",
    "import matplotlib.pyplot as plt\n",
    "import matplotlib.image as mpimg\n",
    "import numpy as np\n",
    "img = mpimg.imread('../data/forest2.jpg')\n",
    "city_list = list()\n",
    "forest_list = list()\n",
    "\n",
    "for i in range(10):\n",
    "    img = mpimg.imread('../data/forest' + str(i) + '.jpg')\n",
    "    forest_list.append([img[:,:,0].sum() / img[:,:,0].size, img[:,:,2].sum() / img[:,:,2].size])\n",
    "\n",
    "    img = mpimg.imread('../data/city' + str(i) + '.jpg')\n",
    "    city_list.append([img[:,:,0].sum() / img[:,:,0].size, img[:,:,2].sum() / img[:,:,2].size])"
   ]
  },
  {
   "cell_type": "markdown",
   "metadata": {
    "collapsed": true,
    "deletable": true,
    "editable": true
   },
   "source": [
    "We work we centered data (we subtract the average)"
   ]
  },
  {
   "cell_type": "code",
   "execution_count": 5,
   "metadata": {
    "collapsed": false,
    "deletable": true,
    "editable": true
   },
   "outputs": [],
   "source": [
    "average = np.mean(city_list + forest_list, axis=0)\n",
    "city_array_centered = np.array(city_list)-average   \n",
    "forest_array_centered = np.array(forest_list)-average  "
   ]
  },
  {
   "cell_type": "code",
   "execution_count": 8,
   "metadata": {
    "collapsed": false,
    "deletable": true,
    "editable": true
   },
   "outputs": [
    {
     "data": {
      "image/png": "[encoded data removed]",
      "text/plain": [
       "<matplotlib.figure.Figure at 0x117029e50>"
      ]
     },
     "metadata": {},
     "output_type": "display_data"
    }
   ],
   "source": [
    "plt.plot(forest_array_centered[:,0], forest_array_centered[:,1], 'g+')\n",
    "plt.plot(city_array_centered[:,0], city_array_centered[:,1], 'bo')\n",
    "plt.plot(np.array([40, 170])-average, np.array([150, -10])-average, 'k-', lw=2)\n",
    "plt.show()"
   ]
  },
  {
   "cell_type": "markdown",
   "metadata": {
    "collapsed": true,
    "deletable": true,
    "editable": true
   },
   "source": [
    "Learning a seperating hyperplane. First, we visualize a hyperplane "
   ]
  },
  {
   "cell_type": "code",
   "execution_count": 10,
   "metadata": {
    "collapsed": false,
    "deletable": true,
    "editable": true
   },
   "outputs": [],
   "source": [
    "from IPython import display\n",
    "import time \n",
    "\n",
    "def plot_seperating_hyperlane(w):\n",
    "    print w\n",
    "    w = w / np.linalg.norm(w)\n",
    "    t = np.arange(-60.0, 80.0, 10.0)\n",
    "    plt.plot(w[1]*t, -w[0]*t, 'k--', lw=2)\n",
    "    plt.plot(-0.64173183*t, 0.76692911*t, 'k', lw=2)\n",
    "    plt.plot(forest_array_centered[:,0], forest_array_centered[:,1], 'g+')\n",
    "    plt.plot(city_array_centered[:,0], city_array_centered[:,1], 'bo')\n",
    "    plt.show()\n",
    "    display.clear_output(wait=True)\n",
    "    time.sleep(10.0)"
   ]
  },
  {
   "cell_type": "markdown",
   "metadata": {
    "collapsed": true,
    "deletable": true,
    "editable": true
   },
   "source": [
    "Second, we construct the training data"
   ]
  },
  {
   "cell_type": "code",
   "execution_count": 11,
   "metadata": {
    "collapsed": false,
    "deletable": true,
    "editable": true
   },
   "outputs": [
    {
     "data": {
      "text/plain": [
       "array([[ 58.67750944,  92.52747693],\n",
       "       [ 61.06699777,  36.36109839],\n",
       "       [ 51.63023654,  52.45117466],\n",
       "       [ 13.13373985,  30.72858376],\n",
       "       [ 42.01647129,  46.37502332],\n",
       "       [ 36.12010782,  71.60146866],\n",
       "       [-12.88855116,  37.50546004],\n",
       "       [ 11.41819499, -12.16015347],\n",
       "       [  2.84279725,  57.38211847],\n",
       "       [ -0.27460183,  42.44503282],\n",
       "       [ -7.80937524,  -7.62243874],\n",
       "       [ -1.74619196,  -3.61650129],\n",
       "       [-55.40629066, -75.36756012],\n",
       "       [-48.2673979 , -64.61429388],\n",
       "       [-31.90779692, -44.89345397],\n",
       "       [-37.56918966, -52.89780813],\n",
       "       [-25.04628764, -54.70538002],\n",
       "       [ -3.94982127, -69.24644923],\n",
       "       [-41.37937777, -62.31628069],\n",
       "       [-10.66117296, -19.93711751]])"
      ]
     },
     "execution_count": 11,
     "metadata": {},
     "output_type": "execute_result"
    }
   ],
   "source": [
    "x = np.row_stack((city_array_centered, forest_array_centered))\n",
    "x"
   ]
  },
  {
   "cell_type": "markdown",
   "metadata": {
    "collapsed": true,
    "deletable": true,
    "editable": true
   },
   "source": [
    "And their labels"
   ]
  },
  {
   "cell_type": "code",
   "execution_count": 12,
   "metadata": {
    "collapsed": false,
    "deletable": true,
    "editable": true
   },
   "outputs": [
    {
     "data": {
      "text/plain": [
       "array([-1, -1, -1, -1, -1, -1, -1, -1, -1, -1,  1,  1,  1,  1,  1,  1,  1,\n",
       "        1,  1,  1])"
      ]
     },
     "execution_count": 12,
     "metadata": {},
     "output_type": "execute_result"
    }
   ],
   "source": [
    "y = np.array([-1]*10 + [1]*10)\n",
    "y"
   ]
  },
  {
   "cell_type": "code",
   "execution_count": 13,
   "metadata": {
    "collapsed": false,
    "deletable": true,
    "editable": true
   },
   "outputs": [
    {
     "data": {
      "text/plain": [
       "20"
      ]
     },
     "execution_count": 13,
     "metadata": {},
     "output_type": "execute_result"
    }
   ],
   "source": [
    "total_examples = len(y)\n",
    "total_examples"
   ]
  },
  {
   "cell_type": "markdown",
   "metadata": {
    "collapsed": false,
    "deletable": true,
    "editable": true
   },
   "source": [
    "The learning algorithm"
   ]
  },
  {
   "cell_type": "code",
   "execution_count": 14,
   "metadata": {
    "collapsed": false,
    "deletable": true,
    "editable": true
   },
   "outputs": [],
   "source": [
    "def perceptron(x, y):\n",
    "    w = np.zeros(2)\n",
    "    total_iterations = 10\n",
    "    for iteration in range(total_iterations):\n",
    "        for i in range(total_examples):\n",
    "            if np.dot(x[i], w)*y[i] < 0:\n",
    "                w = w + x[i]*y[i]\n",
    "                plot_seperating_hyperlane(w)\n",
    "    return w"
   ]
  },
  {
   "cell_type": "code",
   "execution_count": null,
   "metadata": {
    "collapsed": true,
    "deletable": true,
    "editable": true
   },
   "outputs": [],
   "source": [
    "w = perceptron(x,y)"
   ]
  },
  {
   "cell_type": "markdown",
   "metadata": {
    "deletable": true,
    "editable": true
   },
   "source": [
    "Class 05: Explain the algorithm step by step. The main line is if np.dot(x[i], w)*y[i] < 0:"
   ]
  },
  {
   "cell_type": "code",
   "execution_count": 27,
   "metadata": {
    "collapsed": false,
    "deletable": true,
    "editable": true
   },
   "outputs": [
    {
     "data": {
      "text/latex": [
       "\\begin{array}{c|c|c}\n",
       " & y_i = 1 & y_i = -1 \\\\\n",
       "\\hline\n",
       "\\langle w,x \\rangle > 0 & :) & :( \\\\\n",
       "\\hline\n",
       "\\langle w,x \\rangle < 0 & :( & :) \\\\\n",
       "\\end{array}"
      ],
      "text/plain": [
       "<IPython.core.display.Latex object>"
      ]
     },
     "metadata": {},
     "output_type": "display_data"
    }
   ],
   "source": [
    "%%latex\n",
    "\\begin{array}{c|c|c}\n",
    " & y_i = 1 & y_i = -1 \\\\\n",
    "\\hline\n",
    "\\langle w,x \\rangle > 0 & :) & :( \\\\\n",
    "\\hline\n",
    "\\langle w,x \\rangle < 0 & :( & :) \\\\\n",
    "\\end{array}"
   ]
  },
  {
   "cell_type": "markdown",
   "metadata": {
    "deletable": true,
    "editable": true
   },
   "source": [
    "or in one line: "
   ]
  },
  {
   "cell_type": "code",
   "execution_count": 30,
   "metadata": {
    "collapsed": false,
    "deletable": true,
    "editable": true
   },
   "outputs": [
    {
     "data": {
      "text/latex": [
       "\\begin{array}{c|c}\n",
       ":) & y_i \\langle w,x \\rangle > 0 \\\\\n",
       "\\hline\n",
       ":( & y_i \\langle w,x \\rangle < 0 \\\\\n",
       "\\end{array}"
      ],
      "text/plain": [
       "<IPython.core.display.Latex object>"
      ]
     },
     "metadata": {},
     "output_type": "display_data"
    }
   ],
   "source": [
    "%%latex\n",
    "\\begin{array}{c|c}\n",
    ":) & y_i \\langle w,x \\rangle > 0 \\\\\n",
    "\\hline\n",
    ":( & y_i \\langle w,x \\rangle < 0 \\\\\n",
    "\\end{array}"
   ]
  },
  {
   "cell_type": "markdown",
   "metadata": {
    "collapsed": false,
    "deletable": true,
    "editable": true
   },
   "source": [
    "why the algorithm in sensible? The algorith produces a seperating hyperplane in each step $t$. Denote it by $w^{(t)}$.  \n",
    "\n",
    "Its basic update rule is $w^{(t+1)} \\leftarrow w^{(t)} + y_i x_i$ that is applied for a failing example $y_i \\langle w^{(t)},x_i \\rangle < 0$. This in the $t-$th iteration might become a corrently classified example in the $(t+1)-$th iteration: \n",
    "\n",
    "\\begin{eqnarray}\n",
    "y_i \\langle w^{(t+1)},x_i \\rangle &=& y_i \\langle w^{(t)} + y_i x_i ,x_i \\rangle \\\\\n",
    "&=& y_i \\langle w^{(t)},x_i \\rangle + y_i \\langle x_i , y_i x_i \\rangle\\\\\n",
    "&=& y_i \\langle w^{(t)},x_i \\rangle + \\| y_i x_i \\|^2 \\\\\n",
    "&=& :( \\hspace{0.5cm} + \\hspace{0.5cm}  :)\n",
    "\\end{eqnarray}"
   ]
  },
  {
   "cell_type": "markdown",
   "metadata": {
    "deletable": true,
    "editable": true
   },
   "source": [
    "And by adding positive value $\\| y_i x_i \\|^2$ to the prevoiusly negative value $y_i \\langle w^{(t)},x_i \\rangle$ we hope to improve the prediction for $x_i$. "
   ]
  }
 ],
 "metadata": {
  "kernelspec": {
   "display_name": "Python 2",
   "language": "python",
   "name": "python2"
  },
  "language_info": {
   "codemirror_mode": {
    "name": "ipython",
    "version": 2
   },
   "file_extension": ".py",
   "mimetype": "text/x-python",
   "name": "python",
   "nbconvert_exporter": "python",
   "pygments_lexer": "ipython2",
   "version": "2.7.13"
  }
 },
 "nbformat": 4,
 "nbformat_minor": 2
}
